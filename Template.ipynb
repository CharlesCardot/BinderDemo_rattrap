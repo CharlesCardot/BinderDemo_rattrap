{
 "cells": [
  {
   "cell_type": "code",
   "execution_count": null,
   "metadata": {},
   "outputs": [],
   "source": [
    "# Authors: Charles Cardot, Samantha Tetef, Diwash Dhakal, and Jared Abramson\n",
    "# Last Updated: May 2023\n",
    "\n",
    "import numpy as np\n",
    "import matplotlib.pyplot as plt\n",
    "\n",
    "from pathlib import Path\n",
    "\n",
    "from utils.basic_funcs import get_spectra_arr\n",
    "from utils.basic_funcs import get_spectra_summed\n",
    "from utils.basic_funcs import subtract_linear_background\n",
    "from utils.basic_funcs import subtract_constant_background\n",
    "from utils.basic_funcs import normalize\n",
    "from utils.basic_funcs import plottrim\n",
    "\n",
    "# Standardizing Plots using rc params (writen by chatGPT)\n",
    "plt.rcParams['axes.labelsize'] = 20\n",
    "plt.rcParams['axes.titlesize'] = 25\n",
    "plt.rcParams['xtick.direction'] = 'in'\n",
    "plt.rcParams['ytick.direction'] = 'in'\n",
    "plt.rcParams['xtick.labelsize'] = 15\n",
    "plt.rcParams['ytick.labelsize'] = 15\n",
    "plt.rcParams['lines.linewidth'] = 2\n",
    "plt.rcParams['legend.fontsize'] = 25\n",
    "plt.rcParams['legend.loc'] = 'upper left'\n",
    "plt.rcParams['legend.fancybox'] = True\n",
    "plt.rcParams['figure.figsize'] = (10, 6)\n",
    "\n",
    "plt.rcParams['font.family'] = 'serif'\n",
    "plt.rcParams['font.serif'] = 'Times New Roman'\n",
    "plt.rcParams['mathtext.fontset'] = 'custom'\n",
    "plt.rcParams['mathtext.rm'] = 'Times New Roman'\n"
   ]
  },
  {
   "attachments": {},
   "cell_type": "markdown",
   "metadata": {},
   "source": [
    "#### Plot all runs, ensure run-to-run consistency"
   ]
  },
  {
   "cell_type": "code",
   "execution_count": null,
   "metadata": {},
   "outputs": [],
   "source": [
    "data_folder_path = Path.cwd() / \"Data\" / \"folder_with_alldata_files\"\n",
    "spectra_arr = get_spectra_arr(data_folder_path, runs='all')\n",
    "\n",
    "fig, ax = plt.subplots()\n",
    "for key, spec in enumerate(spectra_arr):\n",
    "    ax.plot(spec[0], spec[1], label='run ' + str(key))\n",
    "\n",
    "ax.legend()\n",
    "ax.set_xlabel('Energy (eV)')\n",
    "ax.set_ylabel('Intensity (arb. units)')\n",
    "ax.set_title(\"Individual Runs\")\n",
    "plt.show()"
   ]
  },
  {
   "attachments": {},
   "cell_type": "markdown",
   "metadata": {},
   "source": [
    "#### Plot avg of runs, including bkg subtraction and normalization\n",
    "\n",
    "Note: This uses a constant background subtraction, which is convention for Kalpha XES. You may need to use a linear background subtraction for Kbeta or Valence-to-Core"
   ]
  },
  {
   "cell_type": "code",
   "execution_count": 2,
   "metadata": {},
   "outputs": [],
   "source": [
    "data_folder_path = Path.cwd() / \"Data\" / \"folder_with_alldata_files\"\n",
    "spectra = get_spectra_summed(data_folder_path, runs='all')\n",
    "\n",
    "# Select a relatively flat region, away from the main peaks\n",
    "bkg_roi = (5000, 5005) # Units of eV\n",
    "spectra = subtract_constant_background(spectra, bkg_roi)\n",
    "\n",
    "# plottrim, keep only data between 5005 and 5040 eV\n",
    "spectra = plottrim(spectra, left = 5005, right = 5040)\n",
    "\n",
    "spectra = normalize(spectra)\n",
    "\n",
    "fig, ax = plt.subplots()\n",
    "ax.plot(spectra[0], spectra[1], label='My Spectra', linewidth=2)\n",
    "\n",
    "ax.legend()\n",
    "ax.set_xlabel('Energy (eV)')\n",
    "ax.set_ylabel('Intensity (arb. units)')\n",
    "ax.set_title(r\"$\\it{Compound}, \\it{Emission Line}$\")\n",
    "\n",
    "plt.show()"
   ]
  },
  {
   "cell_type": "code",
   "execution_count": null,
   "metadata": {},
   "outputs": [],
   "source": []
  }
 ],
 "metadata": {
  "kernelspec": {
   "display_name": "Python 3",
   "language": "python",
   "name": "python3"
  },
  "language_info": {
   "codemirror_mode": {
    "name": "ipython",
    "version": 3
   },
   "file_extension": ".py",
   "mimetype": "text/x-python",
   "name": "python",
   "nbconvert_exporter": "python",
   "pygments_lexer": "ipython3",
   "version": "3.10.6"
  },
  "vscode": {
   "interpreter": {
    "hash": "819ca2fbddacecf53f45c874f8568e2e1f43448fcd27d5f61ecae6c68099da9c"
   }
  }
 },
 "nbformat": 4,
 "nbformat_minor": 2
}
