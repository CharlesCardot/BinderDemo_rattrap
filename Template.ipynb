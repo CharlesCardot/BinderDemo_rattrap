{
 "cells": [
  {
   "cell_type": "code",
   "execution_count": null,
   "metadata": {},
   "outputs": [],
   "source": [
    "# Authors: Charles Cardot, Samantha Tetef, Diwash Dhakal, and Jared Abramson\n",
    "# Last Updated: August 2022\n",
    "\n",
    "import numpy as np\n",
    "import matplotlib.pyplot as plt\n",
    "\n",
    "from pathlib import Path\n",
    "\n",
    "from utils.basic_funcs import get_spectra\n",
    "from utils.basic_funcs import subtract_linear_background\n",
    "from utils.basic_funcs import subtract_constant_background\n",
    "from utils.basic_funcs import normalize\n",
    "from utils.basic_funcs import plottrim\n",
    "\n",
    "# Standardizing Plots using rc params (writen by chatGPT)\n",
    "plt.rcParams['font.family'] = 'Times New Roman'\n",
    "plt.rcParams['axes.labelsize'] = 20\n",
    "plt.rcParams['axes.titlesize'] = 25\n",
    "plt.rcParams['xtick.direction'] = 'in'\n",
    "plt.rcParams['ytick.direction'] = 'in'\n",
    "plt.rcParams['xtick.labelsize'] = 15\n",
    "plt.rcParams['ytick.labelsize'] = 15\n",
    "plt.rcParams['legend.fontsize'] = 25\n",
    "plt.rcParams['legend.loc'] = 'upper left'\n",
    "plt.rcParams['legend.fancybox'] = True\n",
    "plt.rcParams['figure.figsize'] = (10, 6)\n"
   ]
  },
  {
   "cell_type": "code",
   "execution_count": 2,
   "metadata": {},
   "outputs": [],
   "source": [
    "data_folder_path = Path.cwd() / \"Data\" / \"folder_with_alldata_files\"\n",
    "spectra = get_spectra(data_folder_path, runs='all')\n",
    "\n",
    "bkg_roi = (5000, 5005) # Units of eV\n",
    "spectra = subtract_constant_background(spectra, bkg_roi)\n",
    "spectra = normalize(spectra)\n",
    "\n",
    "# Keep only data between 5005 and 5040 eV\n",
    "#spectra = plottrim(spectra, left = 5005, right = 5040)\n",
    "\n",
    "fig, ax = plt.subplots()\n",
    "ax.plot(spectra[0], spectra[1], label='My Spectra', linewidth=3)\n",
    "\n",
    "ax.set_xlabel('Energy (eV)')\n",
    "ax.set_ylabel('Intensity (arb. units)')\n",
    "\n",
    "ax.legend(fancybox = True)\n",
    "plt.show()"
   ]
  },
  {
   "cell_type": "code",
   "execution_count": null,
   "metadata": {},
   "outputs": [],
   "source": []
  }
 ],
 "metadata": {
  "kernelspec": {
   "display_name": "Python 3",
   "language": "python",
   "name": "python3"
  },
  "language_info": {
   "codemirror_mode": {
    "name": "ipython",
    "version": 3
   },
   "file_extension": ".py",
   "mimetype": "text/x-python",
   "name": "python",
   "nbconvert_exporter": "python",
   "pygments_lexer": "ipython3",
   "version": "3.10.6"
  },
  "vscode": {
   "interpreter": {
    "hash": "819ca2fbddacecf53f45c874f8568e2e1f43448fcd27d5f61ecae6c68099da9c"
   }
  }
 },
 "nbformat": 4,
 "nbformat_minor": 2
}
